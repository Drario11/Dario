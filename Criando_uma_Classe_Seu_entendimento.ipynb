{
  "nbformat": 4,
  "nbformat_minor": 0,
  "metadata": {
    "colab": {
      "provenance": [],
      "authorship_tag": "ABX9TyPU/4hWy05bSeKLDafbVbam",
      "include_colab_link": true
    },
    "kernelspec": {
      "name": "python3",
      "display_name": "Python 3"
    },
    "language_info": {
      "name": "python"
    }
  },
  "cells": [
    {
      "cell_type": "markdown",
      "metadata": {
        "id": "view-in-github",
        "colab_type": "text"
      },
      "source": [
        "<a href=\"https://colab.research.google.com/github/Drario11/Dario/blob/main/Criando_uma_Classe_Seu_entendimento.ipynb\" target=\"_parent\"><img src=\"https://colab.research.google.com/assets/colab-badge.svg\" alt=\"Open In Colab\"/></a>"
      ]
    },
    {
      "cell_type": "code",
      "execution_count": 5,
      "metadata": {
        "colab": {
          "base_uri": "https://localhost:8080/"
        },
        "id": "QmljgV50zPqV",
        "outputId": "3623a807-0783-45aa-fa70-83306e0f1143"
      },
      "outputs": [
        {
          "output_type": "stream",
          "name": "stdout",
          "text": [
            "Nome: Maria, Endereço rua 0065, Telefone 68999290916\n"
          ]
        }
      ],
      "source": [
        "#Criando uma classe para uso futuros\n",
        "class Pessoa:\n",
        "  def __init__(self, nome, ender, telef):\n",
        "    self.set__nome(nome)\n",
        "    self.set__ender(ender)\n",
        "    self.set__telef(telef)\n",
        "\n",
        "  def set__nome(self, nome):\n",
        "    self.nome=nome\n",
        "\n",
        "  def set__ender(self, ender):\n",
        "    self.ender=ender\n",
        "\n",
        "  def set__telef(self, telef):\n",
        "    self.telef=telef\n",
        "\n",
        "  def get_nome(self):\n",
        "    return self.nome\n",
        "\n",
        "  def get_ender(self):\n",
        "    return self.ender\n",
        "\n",
        "  def get_telef(self):\n",
        "    return self.telef\n",
        "# Agora vou criar um objeto e e imprimir os dados \n",
        "\n",
        "# Criando um objeto\n",
        "pessoa1 = Pessoa(\"Maria\", \"rua 0065\", \"68999290916\")\n",
        "\n",
        "# Abaixo vou imprimir objeto\n",
        "\n",
        "print(f'Nome: {pessoa1.get_nome()}, Endereço {pessoa1.get_ender()}, Telefone {pessoa1.get_telef()}')\n"
      ]
    }
  ]
}